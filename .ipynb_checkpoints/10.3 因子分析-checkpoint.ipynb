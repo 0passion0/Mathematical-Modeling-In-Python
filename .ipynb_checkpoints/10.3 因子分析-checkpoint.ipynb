{
 "cells": [
  {
   "cell_type": "code",
   "execution_count": 1,
   "metadata": {},
   "outputs": [
    {
     "data": {
      "text/latex": [
       "因子分析模型: $X=\\mu+\\Lambda F+\\epsilon$"
      ],
      "text/plain": [
       "<IPython.core.display.Latex object>"
      ]
     },
     "metadata": {},
     "output_type": "display_data"
    },
    {
     "data": {
      "text/latex": [
       "其中$E(F)=0,\\quad E(\\epsilon)=0,\\quad Cov(F)=I_m,\\quad D(\\epsilon)=Cov(\\epsilon)=diag(\\sigma_1^2,\\cdots,\\sigma_m^2),\\quad Cov(F, \\epsilon)=0$"
      ],
      "text/plain": [
       "<IPython.core.display.Latex object>"
      ]
     },
     "metadata": {},
     "output_type": "display_data"
    },
    {
     "data": {
      "text/latex": [
       "原始变量$X$的协方差矩阵分解: $Cov(X)=\\Lambda\\Lambda^T+diag(\\sigma_1^2,\\cdots,\\sigma_m^2)$"
      ],
      "text/plain": [
       "<IPython.core.display.Latex object>"
      ]
     },
     "metadata": {},
     "output_type": "display_data"
    },
    {
     "data": {
      "text/latex": [
       "载荷因子$\\alpha_{ij}$反映第$i$个变量和第$j$个公共因子的相关系数. 绝对值越大相关的密切程度越高."
      ],
      "text/plain": [
       "<IPython.core.display.Latex object>"
      ]
     },
     "metadata": {},
     "output_type": "display_data"
    },
    {
     "data": {
      "text/latex": [
       "变量$X_i$的共同度记为$h_i^2=\\sum\\limits_{j=1}^m\\alpha_{ij}^2$, 又有$1=h_i^2+\\sigma_i^2$, 故$h_i^2$越接近1, 因子分析效果越好"
      ],
      "text/plain": [
       "<IPython.core.display.Latex object>"
      ]
     },
     "metadata": {},
     "output_type": "display_data"
    },
    {
     "data": {
      "text/latex": [
       "$\\Lambda$中各列平方和$S_j=\\sum\\limits_{i=1}^p\\alpha_{ij}^2$, 用于衡量$F_j$的相对重要性."
      ],
      "text/plain": [
       "<IPython.core.display.Latex object>"
      ]
     },
     "metadata": {},
     "output_type": "display_data"
    },
    {
     "data": {
      "text/latex": [
       "因子载荷矩阵的估计方法: 1.主成分分析法(242页); "
      ],
      "text/plain": [
       "<IPython.core.display.Latex object>"
      ]
     },
     "metadata": {},
     "output_type": "display_data"
    },
    {
     "data": {
      "text/latex": [
       "通过因子旋转来直观的判断因子的实际意义"
      ],
      "text/plain": [
       "<IPython.core.display.Latex object>"
      ]
     },
     "metadata": {},
     "output_type": "display_data"
    },
    {
     "data": {
      "text/latex": [
       "因子得分: 反过来把公共因子表示为原变量的线性组合."
      ],
      "text/plain": [
       "<IPython.core.display.Latex object>"
      ]
     },
     "metadata": {},
     "output_type": "display_data"
    },
    {
     "data": {
      "text/latex": [
       "因子得分函数: $F_j=c_j+\\beta_{j1}X_1+\\cdots+\\beta_{jp}X_p,\\ j=1,2,\\cdots,m$"
      ],
      "text/plain": [
       "<IPython.core.display.Latex object>"
      ]
     },
     "metadata": {},
     "output_type": "display_data"
    },
    {
     "data": {
      "text/latex": [
       "有1.巴特莱特因子得分(249页); 2.回归方法(250页)"
      ],
      "text/plain": [
       "<IPython.core.display.Latex object>"
      ]
     },
     "metadata": {},
     "output_type": "display_data"
    }
   ],
   "source": [
    "# 因子分析模型(241)\n",
    "\n",
    "from IPython.display import Latex\n",
    "from IPython.display import display, Math, Latex\n",
    "\n",
    "\n",
    "def print_latex(latex_str):\n",
    "    display(Latex(latex_str))\n",
    "    \n",
    "    \n",
    "print_latex(r'因子分析模型: $X=\\mu+\\Lambda F+\\epsilon$')\n",
    "print_latex(r'其中$E(F)=0,\\quad E(\\epsilon)=0,\\quad Cov(F)=I_m,\\quad D(\\epsilon)=Cov(\\epsilon)=diag(\\sigma_1^2,\\cdots,\\sigma_m^2),\\quad Cov(F, \\epsilon)=0$')\n",
    "print_latex(r'原始变量$X$的协方差矩阵分解: $Cov(X)=\\Lambda\\Lambda^T+diag(\\sigma_1^2,\\cdots,\\sigma_m^2)$')\n",
    "print_latex(r'载荷因子$\\alpha_{ij}$反映第$i$个变量和第$j$个公共因子的相关系数. 绝对值越大相关的密切程度越高.')\n",
    "print_latex(r'变量$X_i$的共同度记为$h_i^2=\\sum\\limits_{j=1}^m\\alpha_{ij}^2$, 又有$1=h_i^2+\\sigma_i^2$, 故$h_i^2$越接近1, 因子分析效果越好')\n",
    "print_latex(r'$\\Lambda$中各列平方和$S_j=\\sum\\limits_{i=1}^p\\alpha_{ij}^2$, 用于衡量$F_j$的相对重要性.')\n",
    "print_latex(r'因子载荷矩阵的估计方法: 1.主成分分析法(242页); ')\n",
    "print_latex(r'通过因子旋转来直观的判断因子的实际意义')\n",
    "print_latex(r'因子得分: 反过来把公共因子表示为原变量的线性组合.')\n",
    "print_latex(r'因子得分函数: $F_j=c_j+\\beta_{j1}X_1+\\cdots+\\beta_{jp}X_p,\\ j=1,2,\\cdots,m$')\n",
    "print_latex(r'有1.巴特莱特因子得分(249页); 2.回归方法(250页)')"
   ]
  }
 ],
 "metadata": {
  "kernelspec": {
   "display_name": "Python 3",
   "language": "python",
   "name": "python3"
  },
  "language_info": {
   "codemirror_mode": {
    "name": "ipython",
    "version": 3
   },
   "file_extension": ".py",
   "mimetype": "text/x-python",
   "name": "python",
   "nbconvert_exporter": "python",
   "pygments_lexer": "ipython3",
   "version": "3.7.4"
  }
 },
 "nbformat": 4,
 "nbformat_minor": 4
}
