{
 "cells": [
  {
   "cell_type": "code",
   "execution_count": 1,
   "metadata": {},
   "outputs": [
    {
     "data": {
      "text/latex": [
       "已知$x^{(0)}=(x^{(0)}(1),x^{(0)}(2),\\cdots,x^{(0)}(n))$"
      ],
      "text/plain": [
       "<IPython.core.display.Latex object>"
      ]
     },
     "metadata": {},
     "output_type": "display_data"
    },
    {
     "data": {
      "text/latex": [
       "累加生成序列:$x^{(1)}=(x^{(0)}(1),x^{(0)}(1)+x^{(0)}(2),\\cdots,x^{(0)}(1)+\\cdots+x^{(0)}(n))$"
      ],
      "text/plain": [
       "<IPython.core.display.Latex object>"
      ]
     },
     "metadata": {},
     "output_type": "display_data"
    },
    {
     "data": {
      "text/latex": [
       "均值生成序列:$z^{(1)}=(z^{(1)}(1),z^{(1)}(2),\\cdots,z^{(1)}(n))$, 其中$z^{(1)}(k)=0.5x^{(1)}(k)+0.5x^{(1)}(k-1)$"
      ],
      "text/plain": [
       "<IPython.core.display.Latex object>"
      ]
     },
     "metadata": {},
     "output_type": "display_data"
    },
    {
     "data": {
      "text/latex": [
       "灰微分方程: $x^{(0)}(k)+az^{(1)}(k)=b,\\ k=2,3,\\cdots,n$"
      ],
      "text/plain": [
       "<IPython.core.display.Latex object>"
      ]
     },
     "metadata": {},
     "output_type": "display_data"
    },
    {
     "data": {
      "text/latex": [
       "相应白化微分方程: $\\frac{dx^{(1)}}{dt}+ax^{(1)}(t)=b$"
      ],
      "text/plain": [
       "<IPython.core.display.Latex object>"
      ]
     },
     "metadata": {},
     "output_type": "display_data"
    },
    {
     "data": {
      "text/latex": [
       "可容覆盖: $\\Theta=(e^{-\\frac{2}{n+1}}, e^{\\frac{2}{n+1}})$"
      ],
      "text/plain": [
       "<IPython.core.display.Latex object>"
      ]
     },
     "metadata": {},
     "output_type": "display_data"
    }
   ],
   "source": [
    "# 灰色预测模型(Grey Model, GM)\n",
    "\n",
    "# 1.GM(1, 1)建模\n",
    "#   要求: 需要一次累加序列近似为指数规律发展\n",
    "#   模型使用数据不是原有数据\n",
    "\n",
    "# 2.GM(2, 1), DGM, Verhulst\n",
    "#   对于非单调的摆动发展序列或饱和的S形序列.\n",
    "\n",
    "# 3.灰色Verhulst预测模型\n",
    "#   用来描述具有饱和状态的S型模型. 常用于人口预测, 生物生长, 繁殖预测, 产品经济寿命预测等.\n",
    "\n",
    "from IPython.display import Latex\n",
    "from IPython.display import display, Math, Latex\n",
    "\n",
    "\n",
    "def print_latex(latex_str):\n",
    "    display(Latex(latex_str))\n",
    "    \n",
    "    \n",
    "print_latex(r'已知$x^{(0)}=(x^{(0)}(1),x^{(0)}(2),\\cdots,x^{(0)}(n))$')\n",
    "print_latex(r'累加生成序列:$x^{(1)}=(x^{(0)}(1),x^{(0)}(1)+x^{(0)}(2),\\cdots,x^{(0)}(1)+\\cdots+x^{(0)}(n))$')\n",
    "print_latex(r'均值生成序列:$z^{(1)}=(z^{(1)}(1),z^{(1)}(2),\\cdots,z^{(1)}(n))$, 其中$z^{(1)}(k)=0.5x^{(1)}(k)+0.5x^{(1)}(k-1)$')\n",
    "print_latex(r'灰微分方程: $x^{(0)}(k)+az^{(1)}(k)=b,\\ k=2,3,\\cdots,n$')\n",
    "print_latex(r'相应白化微分方程: $\\frac{dx^{(1)}}{dt}+ax^{(1)}(t)=b$')\n",
    "print_latex(r'可容覆盖: $\\Theta=(e^{-\\frac{2}{n+1}}, e^{\\frac{2}{n+1}})$')"
   ]
  },
  {
   "cell_type": "code",
   "execution_count": 3,
   "metadata": {},
   "outputs": [
    {
     "name": "stdout",
     "output_type": "stream",
     "text": [
      "级比: [0.9820442  1.         1.00416089 1.00980392 0.99166667 1.00558659]\n",
      "可容覆盖: (0.7788007830714049, 1.2488488690016821)\n",
      "可容性: [True, True, True, True, True, True]\n",
      "一次累加序列: [ 71.1 143.5 215.9 288.  359.4 431.4 503. ]\n",
      "B矩阵:\n",
      "[[-107.3     1.  ]\n",
      " [-179.7     1.  ]\n",
      " [-251.95    1.  ]\n",
      " [-323.7     1.  ]\n",
      " [-395.4     1.  ]\n",
      " [-467.2     1.  ]]\n",
      "Y值: [72.4 72.4 72.1 71.4 72.  71.6]\n",
      "最小二乘法得到a, b: [2.34378648e-03 7.26572696e+01]\n",
      "x1预测值: [ 71.1        143.50574144 215.741978   287.8091065  359.70752283\n",
      " 431.43762195 502.9997979 ]\n",
      "x0预测值: [71.1        72.40574144 72.23623656 72.0671285  71.89841633 71.73009912\n",
      " 71.56217595]\n",
      "\n",
      "   Year Raw Data Predction    Error Relative_Error     级比偏差\n",
      "0  1986     71.1   71.1000   0.0000          0.00%      nan\n",
      "1  1987     72.4   72.4057  -0.0057         -0.01%   0.0203\n",
      "2  1988     72.4   72.2362   0.1638          0.23%   0.0023\n",
      "3  1989     72.1   72.0671   0.0329          0.05%  -0.0018\n",
      "4  1990     71.4   71.8984  -0.4984         -0.70%  -0.0074\n",
      "5  1991     72.0   71.7301   0.2699          0.37%   0.0107\n",
      "6  1992     71.6   71.5622   0.0378          0.05%  -0.0032\n"
     ]
    }
   ],
   "source": [
    "# GM(1, 1)建模\n",
    "# 要求: 需要一次累加序列近似为指数规律发展\n",
    "# 例15.2\n",
    "\n",
    "import numpy as np\n",
    "import pandas as pd\n",
    "\n",
    "# 1.级比检验\n",
    "x0 = np.array([71.1, 72.4, 72.4, 72.1, 71.4, 72.0, 71.6], dtype=np.float)\n",
    "lamb = np.array([x0[i] / x0[i+1] for i in range(x0.shape[0]-1)])\n",
    "print('级比:', lamb)\n",
    "Theta = (np.exp(-2/(x0.shape[0]+1)), np.exp(2/(x0.shape[0]+2)))\n",
    "print('可容覆盖:', Theta)\n",
    "OK = [i <= Theta[1] and i >= -Theta[0] for i in lamb]\n",
    "print('可容性:', OK)\n",
    "\n",
    "# GM(1, 1)建模\n",
    "x1 = np.array([x0[:i].sum() for i in range(1, x0.shape[0]+1)])\n",
    "print('一次累加序列:', x1)\n",
    "B = np.array([[-(x1[i]+x1[i+1])/2, 1] for i in range(x1.shape[0]-1)])\n",
    "Y = np.array([x0[i] for i in range(1, x0.shape[0])])\n",
    "print('B矩阵:', B, sep='\\n')\n",
    "print('Y值:', Y)\n",
    "u = np.matmul(np.linalg.inv(np.matmul(B.T, B)), np.matmul(B.T, Y))\n",
    "print('最小二乘法得到a, b:', u)\n",
    "a, b = u[0], u[1]\n",
    "x1_k = lambda k: (x0[0] - b/a) * np.exp(-a*k) + b/a\n",
    "\n",
    "# 预测\n",
    "x1_pred = np.array([x1_k(k) for k in range(x0.shape[0])])\n",
    "print('x1预测值:', x1_pred)\n",
    "x0_pred = np.array([x1_pred[i] - x1_pred[i-1] if i != 0 else x1_pred[0] for i in range(x1_pred.shape[0])])\n",
    "print('x0预测值:', x0_pred)\n",
    "\n",
    "# 检验\n",
    "test_table_columns = ['Year', 'Raw Data', 'Predction', 'Error', 'Relative_Error', '级比偏差']\n",
    "test_table = pd.DataFrame(np.c_[[str(i) for i in range(1986, 1993)],\n",
    "                                x0,\n",
    "                                x0_pred,\n",
    "                                x0 - x0_pred,\n",
    "                                np.divide((x0 - x0_pred), x0),\n",
    "                                [np.nan] + [1-(1-0.5*a)/(1+0.5*a)*lamb[k] for k in range(lamb.shape[0])]],\n",
    "                          columns=test_table_columns)\n",
    "test_table['Predction'] = test_table['Predction'].apply(lambda x: format(float(x), '.4f'))\n",
    "test_table['Error'] = test_table['Error'].apply(lambda x: format(float(x), '.4f'))\n",
    "test_table['Relative_Error'] = test_table['Relative_Error'].apply(lambda x: format(float(x), '.2%'))\n",
    "test_table['级比偏差'] = test_table['级比偏差'].apply(lambda x: format(float(x), '.4f'))\n",
    "print('\\n', test_table, sep='')"
   ]
  },
  {
   "cell_type": "code",
   "execution_count": 6,
   "metadata": {},
   "outputs": [
    {
     "name": "stdout",
     "output_type": "stream",
     "text": [
      "级比: [0.83673469 0.80327869 0.78205128 0.8125     0.92307692]\n",
      "可容覆盖: (0.751477293075286, 1.2840254166877414)\n",
      "可容性: [True, True, True, True, True]\n",
      "1-AGO序列: [ 41.  90. 151. 229. 325. 429.]\n",
      "1-IAGO序列: [ 8. 12. 17. 18.  8.]\n",
      "均值生成序列: [ 65.5 120.5 190.  277.  377. ]\n",
      "B矩阵:\n",
      "[[ -49.   -65.5    1. ]\n",
      " [ -61.  -120.5    1. ]\n",
      " [ -78.  -190.     1. ]\n",
      " [ -96.  -277.     1. ]\n",
      " [-104.  -377.     1. ]]\n",
      "Y值: [ 8. 12. 17. 18.  8.]\n",
      "最小二乘法得到a1, a2, b: [ -1.09219635   0.19590335 -31.79834712]\n",
      "得到带参符号解: Eq(x1_t(t), C1*exp(t*(-a1 - sqrt(a1**2 - 4*a2))/2) + C2*exp(t*(-a1 + sqrt(a1**2 - 4*a2))/2) + b/a2)\n",
      "待定常数:  {C2, C1}\n",
      "关于待定常数的多元方程组:\n",
      "[Eq(41, C1 + C2 + b/a2), Eq(429.0, C1*exp(-5*a1/2 - 5*sqrt(a1**2 - 4*a2)/2) + C2*exp(-5*a1/2 + 5*sqrt(a1**2 - 4*a2)/2) + b/a2)]\n",
      "解得待定常数: {C1: ((41.0*a2 - b)*exp(2.5*a1 + 5.0*sqrt(a1**2 - 4.0*a2)) - (429.0*a2 - b)*exp(5.0*a1 + 2.5*sqrt(a1**2 - 4.0*a2)))*exp(-2.5*a1)/(a2*(exp(5.0*sqrt(a1**2 - 4.0*a2)) - 1.0)), C2: -((41.0*a2 - b)*exp(2.5*a1) - (429.0*a2 - b)*exp(5.0*a1 + 2.5*sqrt(a1**2 - 4.0*a2)))*exp(-2.5*a1)/(a2*(exp(5.0*sqrt(a1**2 - 4.0*a2)) - 1.0))} \n",
      "\n",
      "最终解: x1_t(t) = Eq(x1_t(t), 203.84901286639*exp(0.226223404169046*t) - 0.532505769427929*exp(0.865972945416781*t) - 162.316507096962) \n",
      "\n",
      "x1预测值: [41.0000000000000 92.0148144078681 155.156052197627 232.367192369488\n",
      " 324.521982077495 429.000000000000]\n",
      "x0预测值: [41.0000000000000 51.0148144078680 63.1412377897586 77.2111401718614\n",
      " 92.1547897080069 104.478017922505]\n",
      "\n",
      "  Raw Data Predction    Error Relative_Error\n",
      "0       41   41.0000  -0.0000         -0.00%\n",
      "1       49   51.0148  -2.0148         -4.11%\n",
      "2       61   63.1412  -2.1412         -3.51%\n",
      "3       78   77.2111   0.7889          1.01%\n",
      "4       96   92.1548   3.8452          4.01%\n",
      "5      104  104.4780  -0.4780         -0.46%\n"
     ]
    },
    {
     "data": {
      "image/png": "[encoded data removed]",
      "text/plain": [
       "<Figure size 432x288 with 1 Axes>"
      ]
     },
     "metadata": {
      "needs_background": "light"
     },
     "output_type": "display_data"
    }
   ],
   "source": [
    "# GM(2, 1)模型 (DGM(2, 1)模型是它的一个简化, 实现相似, 这里不再实现)\n",
    "# 例15.3\n",
    "\n",
    "import matplotlib.pyplot as plt\n",
    "import numpy as np\n",
    "import pandas as pd\n",
    "import sympy\n",
    "\n",
    "# 1.级比检验\n",
    "x0 = np.array([41, 49, 61, 78, 96, 104], dtype=np.float)\n",
    "lamb = np.array([x0[i] / x0[i+1] for i in range(x0.shape[0]-1)])\n",
    "print('级比:', lamb)\n",
    "Theta = (np.exp(-2/(x0.shape[0]+1)), np.exp(2/(x0.shape[0]+2)))\n",
    "print('可容覆盖:', Theta)\n",
    "OK = [i <= Theta[1] and i >= -Theta[0] for i in lamb]\n",
    "print('可容性:', OK)\n",
    "\n",
    "# GM(2, 1)建模\n",
    "x1 = np.array([x0[:i].sum() for i in range(1, x0.shape[0]+1)])\n",
    "print('1-AGO序列:', x1)\n",
    "alpha1_x0 = np.array([x0[i] - x0[i-1] for i in range(1, x0.shape[0])])\n",
    "print('1-IAGO序列:', alpha1_x0)\n",
    "z1 = np.array([(x1[i]+x1[i+1])/2 for i in range(x1.shape[0]-1)])\n",
    "print('均值生成序列:', z1)\n",
    "B = np.array(np.c_[-x0[1:], -z1, np.ones(z1.shape[0])])\n",
    "print('B矩阵:', B, sep='\\n')\n",
    "Y = alpha1_x0\n",
    "print('Y值:', Y)\n",
    "u = np.matmul(np.linalg.inv(np.matmul(B.T, B)), np.matmul(B.T, Y))\n",
    "print('最小二乘法得到a1, a2, b:', u)\n",
    "\n",
    "sympy.init_printing()\n",
    "# 定义符号常量x 与 f(x)\n",
    "t = sympy.Symbol('t')\n",
    "a1, a2, b = sympy.symbols('a1, a2, b')\n",
    "x1_t = sympy.Function('x1_t')\n",
    "# 微分方程ode\n",
    "ode = sympy.Eq(x1_t(t).diff(t, t) + a1*x1_t(t).diff(t) + a2*x1_t(t), b)\n",
    "init1 = sympy.Eq(x1_t(0), x1[0])\n",
    "init2 = sympy.Eq(x1_t(1), x1[1])\n",
    "# 调用dsolve函数,返回一个Eq对象，hint控制精度\n",
    "ode_sol = sympy.dsolve((ode), x1_t(t))\n",
    "print('得到带参符号解:', ode_sol)\n",
    "# 初始条件字典\n",
    "x1_to_value = {x1_t(0): 41, x1_t(x1.shape[0]-1): x1[-1]}\n",
    "# 确定待定常数集\n",
    "known_params = {a1, a2, b, t}\n",
    "free_params = ode_sol.free_symbols - set(known_params)\n",
    "# 将初始条件带入微分方程的后得到的多元方程\n",
    "C_eqs = [sympy.Eq(ode_sol.lhs.subs(t, 0).subs(x1_to_value), ode_sol.rhs.subs(t, 0)),\n",
    "         sympy.Eq(ode_sol.lhs.subs(t, x1.shape[0]-1).subs(x1_to_value), ode_sol.rhs.subs(t, x1.shape[0]-1))\n",
    "        ]\n",
    "print('待定常数: ', free_params)\n",
    "print('关于待定常数的多元方程组:', C_eqs, sep='\\n')\n",
    "sol_params = sympy.solve(C_eqs, free_params)\n",
    "print('解得待定常数:', sol_params, '\\n')\n",
    "known_params_value = {a1: u[0], a2: u[1], b: u[2]}\n",
    "final_sol_eq = sympy.Eq(ode_sol.lhs, ode_sol.rhs.subs(sol_params).subs(known_params_value))\n",
    "print('最终解:', final_sol_eq.lhs, '=', final_sol_eq, '\\n')\n",
    "\n",
    "# 预测\n",
    "x1_pred = np.array([final_sol_eq.rhs.subs(t,i) for i in range(x1.shape[0])])\n",
    "print('x1预测值:', x1_pred)\n",
    "x0_pred = np.array([x1_pred[i] - x1_pred[i-1] if i != 0 else x1_pred[i] for i in range(x1_pred.shape[0])])\n",
    "print('x0预测值:', x0_pred)\n",
    "\n",
    "# 检验\n",
    "test_table_columns = ['Raw Data', 'Predction', 'Error', 'Relative_Error']\n",
    "test_table = pd.DataFrame(np.c_[x0,\n",
    "                                x0_pred,\n",
    "                                x0 - x0_pred,\n",
    "                                np.divide((x0 - x0_pred), x0)],\n",
    "                          columns=test_table_columns)\n",
    "test_table['Predction'] = test_table['Predction'].apply(lambda x: format(float(x), '.4f'))\n",
    "test_table['Error'] = test_table['Error'].apply(lambda x: format(float(x), '.4f'))\n",
    "test_table['Relative_Error'] = test_table['Relative_Error'].apply(lambda x: format(float(x), '.2%'))\n",
    "print('\\n', test_table, sep='')\n",
    "\n",
    "plt.plot(np.linspace(0, x0.shape[0]-1, x0.shape[0]), x0, c='red', label='Raw Data')\n",
    "x1_pred = np.array([final_sol_eq.rhs.subs(t,i) for i in range(7)])\n",
    "x0_pred = np.array([x1_pred[i] - x1_pred[i-1] if i != 0 else x1_pred[i] for i in range(x1_pred.shape[0])])\n",
    "plt.plot(np.linspace(0, x0_pred.shape[0]-1, x0_pred.shape[0]), x0_pred, c='blue', label='Pred Data')\n",
    "plt.legend()\n",
    "plt.show()"
   ]
  },
  {
   "cell_type": "code",
   "execution_count": 7,
   "metadata": {},
   "outputs": [
    {
     "name": "stdout",
     "output_type": "stream",
     "text": [
      "一次累加序列: [ 4.93  7.26 11.13 15.48 22.11 29.26 34.63 41.02 48.83 57.18]\n",
      "均值生成序列: [ 6.095  9.195 13.305 18.795 25.685 31.945 37.825 44.925 53.005]\n",
      "B矩阵:\n",
      "[[  -6.095      37.149025]\n",
      " [  -9.195      84.548025]\n",
      " [ -13.305     177.023025]\n",
      " [ -18.795     353.252025]\n",
      " [ -25.685     659.719225]\n",
      " [ -31.945    1020.483025]\n",
      " [ -37.825    1430.730625]\n",
      " [ -44.925    2018.255625]\n",
      " [ -53.005    2809.530025]]\n",
      "Y值: [2.33 3.87 4.35 6.63 7.15 5.37 6.39 7.81 8.35]\n",
      "最小二乘法得到a, b: [-0.35762668 -0.00410372]\n",
      "x1预测值: [  4.93         7.04462985  10.06840608  14.39219957  20.57492891\n",
      "  29.41580956  42.05766501  60.13465479  85.98351544 122.94562055]\n",
      "x0预测值: [ 4.93        2.11462985  3.02377624  4.32379348  6.18272934  8.84088065\n",
      " 12.64185545 18.07698979 25.84886065 36.96210511]\n",
      "\n",
      "   Raw Data Predction     Error Relative_Error\n",
      "0      4.93    4.9300    0.0000          0.00%\n",
      "1      2.33    2.1146    0.2154          9.24%\n",
      "2      3.87    3.0238    0.8462         21.87%\n",
      "3      4.35    4.3238    0.0262          0.60%\n",
      "4      6.63    6.1827    0.4473          6.75%\n",
      "5      7.15    8.8409   -1.6909        -23.65%\n",
      "6      5.37   12.6419   -7.2719       -135.42%\n",
      "7      6.39   18.0770  -11.6870       -182.89%\n",
      "8      7.81   25.8489  -18.0389       -230.97%\n",
      "9      8.35   36.9621  -28.6121       -342.66%\n"
     ]
    }
   ],
   "source": [
    "# 灰色Verhulst预测模型\n",
    "# 例15.5\n",
    "\n",
    "import numpy as np\n",
    "import pandas as pd\n",
    "\n",
    "# 原始数据\n",
    "x0 = np.array([4.93, 2.33, 3.87, 4.35, 6.63, 7.15, 5.37, 6.39, 7.81, 8.35], dtype=np.float)\n",
    "\n",
    "# 计算1次累加序列\n",
    "x1 = np.array([x0[:i].sum() for i in range(1, x0.shape[0]+1)])\n",
    "print('一次累加序列:', x1)\n",
    "z1 = np.array([(x1[i]+x1[i+1])/2 for i in range(x1.shape[0]-1)])\n",
    "print('均值生成序列:', z1)\n",
    "B = np.array([[-z1[i], z1[i]*z1[i]] for i in range(x1.shape[0]-1)])\n",
    "print('B矩阵:', B, sep='\\n')\n",
    "Y = np.array([x0[i] for i in range(1, x0.shape[0])])\n",
    "print('Y值:', Y)\n",
    "u = np.matmul(np.linalg.inv(np.matmul(B.T, B)), np.matmul(B.T, Y))\n",
    "print('最小二乘法得到a, b:', u)\n",
    "a, b = u[0], u[1]\n",
    "x1_k = lambda k: (x0[0] - b/a) * np.exp(-a*k) + b/a\n",
    "\n",
    "# 预测\n",
    "x1_pred = np.array([x1_k(k) for k in range(x0.shape[0])])\n",
    "print('x1预测值:', x1_pred)\n",
    "x0_pred = np.array([x1_pred[i] - x1_pred[i-1] if i != 0 else x1_pred[0] for i in range(x1_pred.shape[0])])\n",
    "print('x0预测值:', x0_pred)\n",
    "\n",
    "# 检验\n",
    "test_table_columns = ['Raw Data', 'Predction', 'Error', 'Relative_Error']\n",
    "test_table = pd.DataFrame(np.c_[x0,\n",
    "                                x0_pred,\n",
    "                                x0 - x0_pred,\n",
    "                                np.divide((x0 - x0_pred), x0)],\n",
    "                          columns=test_table_columns)\n",
    "test_table['Predction'] = test_table['Predction'].apply(lambda x: format(float(x), '.4f'))\n",
    "test_table['Error'] = test_table['Error'].apply(lambda x: format(float(x), '.4f'))\n",
    "test_table['Relative_Error'] = test_table['Relative_Error'].apply(lambda x: format(float(x), '.2%'))\n",
    "print('\\n', test_table, sep='')"
   ]
  }
 ],
 "metadata": {
  "kernelspec": {
   "display_name": "Python 3",
   "language": "python",
   "name": "python3"
  },
  "language_info": {
   "codemirror_mode": {
    "name": "ipython",
    "version": 3
   },
   "file_extension": ".py",
   "mimetype": "text/x-python",
   "name": "python",
   "nbconvert_exporter": "python",
   "pygments_lexer": "ipython3",
   "version": "3.7.4"
  }
 },
 "nbformat": 4,
 "nbformat_minor": 4
}
