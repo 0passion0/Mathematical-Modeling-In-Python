{
 "cells": [
  {
   "cell_type": "code",
   "execution_count": 1,
   "metadata": {},
   "outputs": [],
   "source": [
    "# PCA方法\n",
    "# 函数原型: sklearn.decomposition.PCA(n_components=None, copy=True, whiten=False)\n",
    "# 官方文档: https://scikit-learn.org/stable/modules/generated/sklearn.decomposition.PCA.html?highlight=pca#sklearn.decomposition.PCA\n",
    "# 相关说明: https://www.jianshu.com/p/8642d5ea5389"
   ]
  },
  {
   "cell_type": "code",
   "execution_count": 2,
   "metadata": {},
   "outputs": [
    {
     "name": "stdout",
     "output_type": "stream",
     "text": [
      "[0.94035142 0.05964858]\n"
     ]
    },
    {
     "data": {
      "text/plain": [
       "Text(0.5, 1.0, 'Dimensionality Reduced')"
      ]
     },
     "execution_count": 2,
     "metadata": {},
     "output_type": "execute_result"
    },
    {
     "data": {
      "image/png": "[encoded data removed]",
      "text/plain": [
       "<Figure size 720x360 with 2 Axes>"
      ]
     },
     "metadata": {
      "needs_background": "light"
     },
     "output_type": "display_data"
    }
   ],
   "source": [
    "import numpy as np\n",
    "from sklearn.decomposition import PCA\n",
    "import matplotlib.pyplot as plt\n",
    "\n",
    "X = np.linspace(-5, 5, 20)\n",
    "X = X.reshape((X.shape[0], 1))\n",
    "X = np.concatenate((X, X), axis=1)\n",
    "X = X + np.random.normal(loc=0, scale=1, size=X.shape)\n",
    "\n",
    "# PCA训练器\n",
    "pca = PCA(n_components=2, copy=True, whiten=False)\n",
    "# 训练并降维\n",
    "newX = pca.fit_transform(X)\n",
    "# 对数据降维\n",
    "TransX = pca.transform(X)\n",
    "# 将降维后数据逆变换回原数据\n",
    "pca.inverse_transform(newX)\n",
    "# 各个特征的方差百分比\n",
    "print(pca.explained_variance_ratio_)\n",
    "\n",
    "plt.figure(figsize=(10, 5))\n",
    "plt.subplot(1, 2, 1)\n",
    "plt.scatter(X[:,0], X[:, 1], color='b')\n",
    "plt.xlim(xmin=-6, xmax=6)\n",
    "plt.ylim(ymin=-8, ymax=8)\n",
    "plt.title('Dimensionality Unreduced')\n",
    "plt.subplot(1, 2, 2)\n",
    "plt.scatter(newX[:,0], newX[:, 1], color='r')\n",
    "plt.xlim(xmin=-10, xmax=10)\n",
    "plt.ylim(ymin=-7, ymax=7)\n",
    "plt.title('Dimensionality Reduced')"
   ]
  }
 ],
 "metadata": {
  "kernelspec": {
   "display_name": "Python 3",
   "language": "python",
   "name": "python3"
  },
  "language_info": {
   "codemirror_mode": {
    "name": "ipython",
    "version": 3
   },
   "file_extension": ".py",
   "mimetype": "text/x-python",
   "name": "python",
   "nbconvert_exporter": "python",
   "pygments_lexer": "ipython3",
   "version": "3.7.4"
  }
 },
 "nbformat": 4,
 "nbformat_minor": 4
}
