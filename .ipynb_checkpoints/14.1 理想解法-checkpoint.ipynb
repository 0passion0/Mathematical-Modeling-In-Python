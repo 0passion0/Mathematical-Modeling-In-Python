{
 "cells": [
  {
   "cell_type": "code",
   "execution_count": 6,
   "metadata": {},
   "outputs": [
    {
     "data": {
      "text/latex": [
       "多属性决策方案集: $D=\\{d_1,d_2,\\cdots,d_m\\}$"
      ],
      "text/plain": [
       "<IPython.core.display.Latex object>"
      ]
     },
     "metadata": {},
     "output_type": "display_data"
    },
    {
     "data": {
      "text/latex": [
       "衡量方案优劣的属性变量: $x_1,x_2,\\cdots,x_n$"
      ],
      "text/plain": [
       "<IPython.core.display.Latex object>"
      ]
     },
     "metadata": {},
     "output_type": "display_data"
    },
    {
     "data": {
      "text/latex": [
       "每个方案属性向量: $[a_{i1},a_{i2},\\cdots,a_{in}]$"
      ],
      "text/plain": [
       "<IPython.core.display.Latex object>"
      ]
     },
     "metadata": {},
     "output_type": "display_data"
    },
    {
     "data": {
      "text/latex": [
       "正理想解$C^*$, 负理想解$C^0$"
      ],
      "text/plain": [
       "<IPython.core.display.Latex object>"
      ]
     },
     "metadata": {},
     "output_type": "display_data"
    },
    {
     "data": {
      "text/latex": [
       "方案集中最优方案: 靠近正理想解又远离负理想解."
      ],
      "text/plain": [
       "<IPython.core.display.Latex object>"
      ]
     },
     "metadata": {},
     "output_type": "display_data"
    }
   ],
   "source": [
    "# 理想解法\n",
    "from IPython.display import Latex\n",
    "from IPython.display import display, Math, Latex\n",
    "\n",
    "\n",
    "def print_latex(latex_str):\n",
    "    display(Latex(latex_str))\n",
    "    \n",
    "    \n",
    "print_latex(r'多属性决策方案集: $D=\\{d_1,d_2,\\cdots,d_m\\}$')\n",
    "print_latex(r'衡量方案优劣的属性变量: $x_1,x_2,\\cdots,x_n$')\n",
    "print_latex(r'每个方案属性向量: $[a_{i1},a_{i2},\\cdots,a_{in}]$')\n",
    "print_latex(r'正理想解$C^*$, 负理想解$C^0$')\n",
    "print_latex(r'方案集中最优方案: 靠近正理想解又远离负理想解.')\n",
    "\n",
    "# TOPSIS法算法步骤在370页"
   ]
  }
 ],
 "metadata": {
  "kernelspec": {
   "display_name": "Python 3",
   "language": "python",
   "name": "python3"
  },
  "language_info": {
   "codemirror_mode": {
    "name": "ipython",
    "version": 3
   },
   "file_extension": ".py",
   "mimetype": "text/x-python",
   "name": "python",
   "nbconvert_exporter": "python",
   "pygments_lexer": "ipython3",
   "version": "3.7.4"
  }
 },
 "nbformat": 4,
 "nbformat_minor": 4
}
