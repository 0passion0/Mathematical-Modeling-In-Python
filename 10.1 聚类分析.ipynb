{
 "cells": [
  {
   "cell_type": "code",
   "execution_count": null,
   "metadata": {},
   "outputs": [],
   "source": [
    "# 1.Q型聚类分析: 对样本进行分类\n",
    "#   1.样本相似性度量\n",
    "#     Mahalanobis距离(马氏距离). 对一切线性变换均不变.\n",
    "#   2.类间相似性度量\n",
    "#     最短/长距离法, 重心法, 类平均法, 离差平方和法(Ward方法)\n",
    "#   3.聚类图(树形图/树状图)\n",
    "#     聚类图怎么看: https://jingyan.baidu.com/article/29697b9109d147ab21de3c44.html.\n",
    "\n",
    "# 2.R型聚类分析: 对变量进行分类\n",
    "#   1.变量相似性度量: 应满足: I.相关系数 <= 1; II.具有交换性; III.越接近1表示越相似\n",
    "#     相关系数及相关系数矩阵\n",
    "#     夹角余弦\n",
    "#   2.变量聚类法(224页): 列出相关系数矩阵后,可以使用聚类图的方法直观表示.\n",
    "#     最长距离法\n",
    "#     最短距离法"
   ]
  },
  {
   "cell_type": "code",
   "execution_count": 1,
   "metadata": {},
   "outputs": [],
   "source": [
    "import numpy as np\n",
    "import matplotlib.pyplot as plt"
   ]
  },
  {
   "cell_type": "code",
   "execution_count": 2,
   "metadata": {},
   "outputs": [
    {
     "data": {
      "text/plain": [
       "{'icoord': [[15.0, 15.0, 25.0, 25.0],\n",
       "  [35.0, 35.0, 45.0, 45.0],\n",
       "  [20.0, 20.0, 40.0, 40.0],\n",
       "  [5.0, 5.0, 30.0, 30.0]],\n",
       " 'dcoord': [[0.0, 1.0, 1.0, 0.0],\n",
       "  [0.0, 2.0, 2.0, 0.0],\n",
       "  [1.0, 3.0, 3.0, 2.0],\n",
       "  [0.0, 4.0, 4.0, 3.0]],\n",
       " 'ivl': ['4', '0', '1', '2', '3'],\n",
       " 'leaves': [4, 0, 1, 2, 3],\n",
       " 'color_list': ['g', 'r', 'b', 'b']}"
      ]
     },
     "execution_count": 2,
     "metadata": {},
     "output_type": "execute_result"
    },
    {
     "data": {
      "image/png": "[encoded data removed]",
      "text/plain": [
       "<Figure size 432x288 with 1 Axes>"
      ]
     },
     "metadata": {
      "needs_background": "light"
     },
     "output_type": "display_data"
    }
   ],
   "source": [
    "# scikit-learn 没有绘制树状图的功能，需借助 SciPy 库完成\n",
    "from scipy.cluster.hierarchy import dendrogram, ward, linkage\n",
    "from sklearn.datasets import make_blobs\n",
    "import matplotlib.pyplot as plt\n",
    "\n",
    "# method是类间距求法. 'single':以最小距离为间距\n",
    "# 关于metric的有效值,可参照《数学建模算法与应用（第二版）》的222页\n",
    "dendrogram(linkage(\n",
    "    [[1,0],\n",
    "     [1,1],\n",
    "     [3,2],\n",
    "     [4,3],\n",
    "     [2,5]], method='single', metric='cityblock'))\n"
   ]
  },
  {
   "cell_type": "code",
   "execution_count": 3,
   "metadata": {},
   "outputs": [
    {
     "name": "stdout",
     "output_type": "stream",
     "text": [
      "[ 1.         11.          0.40652755  2.        ]\t1.0与11.0聚成类2.0, 高0.4065275519288681\n",
      "[ 5.         13.          0.85780833  3.        ]\t5.0与13.0聚成类3.0, 高0.8578083327495438\n",
      "[ 0.         12.          0.97563165  2.        ]\t0.0与12.0聚成类2.0, 高0.975631650073492\n",
      "[6.         9.         1.00830799 2.        ]\t6.0与9.0聚成类2.0, 高1.0083079879584977\n",
      "[ 3.         16.          1.61021529  3.        ]\t3.0与16.0聚成类3.0, 高1.610215288701898\n",
      "[ 2.         15.          2.11460258  3.        ]\t2.0与15.0聚成类3.0, 高2.114602581526248\n",
      "[ 4.         14.          2.19814438  4.        ]\t4.0与14.0聚成类4.0, 高2.1981443759799824\n",
      "[ 7.         17.          2.55140319  4.        ]\t7.0与17.0聚成类4.0, 高2.551403190505968\n",
      "[10.         18.          2.66056688  4.        ]\t10.0与18.0聚成类4.0, 高2.6605668783953114\n",
      "[ 8.         20.          3.25828581  5.        ]\t8.0与20.0聚成类5.0, 高3.2582858108357935\n",
      "[21.         22.         21.79812099  9.        ]\t21.0与22.0聚成类9.0, 高21.798120991286247\n",
      "[19.         23.         33.66664764 13.        ]\t19.0与23.0聚成类13.0, 高33.66664764047803\n"
     ]
    },
    {
     "data": {
      "image/png": "[encoded data removed]",
      "text/plain": [
       "<Figure size 432x288 with 1 Axes>"
      ]
     },
     "metadata": {
      "needs_background": "light"
     },
     "output_type": "display_data"
    }
   ],
   "source": [
    "# scikit-learn 没有绘制树状图的功能，需借助 SciPy 库完成\n",
    "from scipy.cluster.hierarchy import dendrogram, ward\n",
    "from sklearn.datasets import make_blobs\n",
    "import matplotlib.pyplot as plt\n",
    "\n",
    "# 生成模拟数据\n",
    "X, y = make_blobs(n_samples=13, random_state=42)\n",
    "# 在数据组 X 上应用 ward 聚类函数，返回聚类过程中所跨越距离的数组\n",
    "linkage_array = ward(X)\n",
    "for c in linkage_array:\n",
    "    print(c, '{}与{}聚成类{}, 高{}'.format(c[0], c[1], c[3], c[2]), sep='\\t')\n",
    "# 绘制树状图\n",
    "dendrogram(linkage_array)\n",
    " \n",
    "# 标记数中划分为两个和三个簇的位置\n",
    "ax = plt.gca()\n",
    "bounds = ax.get_xbound()\n",
    "plt.plot(bounds, [27, 27], '-.', c='y')\n",
    "plt.plot(bounds, [14, 14], '-.', c='y')\n",
    "plt.text(bounds[1], 27, ' two clusters', va='center', fontsize=15)\n",
    "plt.text(bounds[1], 14, ' three clusters', va='center', fontsize=15)\n",
    "plt.subplots_adjust(left=0.1, right=0.75, top=0.9, bottom=0.1)\n",
    " \n",
    "plt.show()"
   ]
  }
 ],
 "metadata": {
  "kernelspec": {
   "display_name": "Python 3",
   "language": "python",
   "name": "python3"
  },
  "language_info": {
   "codemirror_mode": {
    "name": "ipython",
    "version": 3
   },
   "file_extension": ".py",
   "mimetype": "text/x-python",
   "name": "python",
   "nbconvert_exporter": "python",
   "pygments_lexer": "ipython3",
   "version": "3.7.4"
  }
 },
 "nbformat": 4,
 "nbformat_minor": 4
}
